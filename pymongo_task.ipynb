{
 "cells": [
  {
   "cell_type": "code",
   "execution_count": 1,
   "id": "d169d9c4-e6ff-40dd-ae83-d34c4bd99fce",
   "metadata": {},
   "outputs": [],
   "source": [
    "from pymongo import MongoClient\n",
    "import datetime\n",
    "\n",
    "client = MongoClient('mongodb://localhost:27017/')\n",
    "db = client['training_db']\n",
    "collection = db['employees']\n",
    "\n",
    "class Employee_Management:\n",
    "    def insert(self):\n",
    "        try:\n",
    "            collection.create_index([(\"email\", 1)], unique=True)\n",
    "        except Exception:\n",
    "            pass\n",
    "    \n",
    "        while True:\n",
    "            print(\"\\nInsert as\")\n",
    "            print(\"1. Single Insert\")\n",
    "            print(\"2. Bulk Insert\")\n",
    "            print(\"3. Exit\")\n",
    "            ch = int(input(\"enter the choice: \"))\n",
    "    \n",
    "            if ch == 1:\n",
    "                try:\n",
    "                    emp_id = int(input(\"emp_id: \"))\n",
    "                    name = input(\"name: \")\n",
    "                    email = input(\"email: \")\n",
    "                    department = input(\"department: \")\n",
    "                    salary = float(input(\"salary: \"))\n",
    "                    join_date = datetime.datetime.strptime(input(\"join_date (YYYY-MM-DD): \"), \"%Y-%m-%d\")\n",
    "    \n",
    "                    if collection.count_documents({\"email\": email}, limit=1):\n",
    "                        print(\"duplicate email\")\n",
    "                    else:\n",
    "                        collection.insert_one({\n",
    "                            \"emp_id\": emp_id,\n",
    "                            \"name\": name,\n",
    "                            \"email\": email,\n",
    "                            \"department\": department,\n",
    "                            \"salary\": salary,\n",
    "                            \"join_date\": join_date,\n",
    "                            \"created_at\": datetime.datetime.utcnow(),\n",
    "                            \"updated_at\": datetime.datetime.utcnow()\n",
    "                        })\n",
    "                        print(\"Inserted\")\n",
    "                except Exception as e:\n",
    "                    print(\"Error inserting document:\", e)\n",
    "    \n",
    "            elif ch == 2:\n",
    "                try:\n",
    "                    n = int(input(\"how many employees to insert: \"))\n",
    "                    docs = []\n",
    "                    seen = set()\n",
    "                    for i in range(n):\n",
    "                        emp_id = int(input(\"emp_id: \"))\n",
    "                        name = input(\"name: \")\n",
    "                        email = input(\"email: \")\n",
    "                        department = input(\"department: \")\n",
    "                        salary = float(input(\"salary: \"))\n",
    "                        join_date = datetime.datetime.strptime(input(\"join_date (YYYY-MM-DD): \"), \"%Y-%m-%d\")\n",
    "    \n",
    "                        if email in seen:\n",
    "                            print(\"duplicate email\")\n",
    "                            continue\n",
    "                        if collection.count_documents({\"email\": email}, limit=1):\n",
    "                            print(\"duplicate email\")\n",
    "                            continue\n",
    "    \n",
    "                        docs.append({\n",
    "                            \"emp_id\": emp_id,\n",
    "                            \"name\": name,\n",
    "                            \"email\": email,\n",
    "                            \"department\": department,\n",
    "                            \"salary\": salary,\n",
    "                            \"join_date\": join_date,\n",
    "                            \"created_at\": datetime.datetime.utcnow(),\n",
    "                            \"updated_at\": datetime.datetime.utcnow()\n",
    "                        })\n",
    "                        seen.add(email)\n",
    "    \n",
    "                    if docs:\n",
    "                        collection.insert_many(docs)\n",
    "                        print(\"Inserted\")\n",
    "                    else:\n",
    "                        print(\"no documents to insert\")\n",
    "                except Exception as e:\n",
    "                    print(\"Error inserting documents:\", e)\n",
    "    \n",
    "            elif ch == 3:\n",
    "                break\n",
    "    \n",
    "    def read_doc(self):\n",
    "        try:\n",
    "            for doc in collection.find():\n",
    "                print(doc)\n",
    "        except Exception as e1:\n",
    "            print(\"Error printing document:\", e1)\n",
    "            \n",
    "    def search(self):\n",
    "        while True:\n",
    "            print(\"Search as\")\n",
    "            print(\"1. Search by department\")\n",
    "            print(\"2. Search by salary range\")\n",
    "            print(\"3. Search by name pattern\")\n",
    "            print(\"4. Advance search by multiple criteria\")\n",
    "            print(\"5. Exit\")\n",
    "            ch1 = int(input(\"enter the choice: \"))\n",
    "            if ch1 == 1:\n",
    "                try:\n",
    "                    dept = input(\"enter the department: \")\n",
    "                    for doc in collection.find({\"department\": dept}):\n",
    "                        print(doc)\n",
    "                except Exception as e:\n",
    "                    print(\"Error fetching the document:\", e)\n",
    "            elif ch1 == 2:\n",
    "                try:\n",
    "                    lower = float(input(\"enter the lower salary range: \"))\n",
    "                    upper = float(input(\"enter the upper salary range: \"))\n",
    "                    for doc in collection.find({\"salary\": {\"$gte\": lower, \"$lte\": upper}}):\n",
    "                        print(doc)\n",
    "                except Exception as e:\n",
    "                    print(\"Error fetching the document:\", e)\n",
    "            elif ch1 == 3:\n",
    "                try:\n",
    "                    pat = input(\"enter the name to search: \")\n",
    "                    for doc in collection.find({\"name\": {\"$regex\": pat}}):\n",
    "                        print(doc)\n",
    "                except Exception as e:\n",
    "                    print(\"Error fetching the document:\", e)\n",
    "            elif ch1 == 4:\n",
    "                try:\n",
    "                    salary = float(input(\"enter the salary to search: \"))\n",
    "                    dept = input(\"enter the dept to search: \")\n",
    "                    for doc in collection.find({\"$and\": [{\"salary\": {\"$eq\": salary}}, {\"department\": {\"$eq\": dept}}]}):\n",
    "                        print(doc)\n",
    "                except Exception as e:\n",
    "                    print(\"Error fetching the document:\", e)\n",
    "            elif ch1 == 5:\n",
    "                break\n",
    "                    \n",
    "    def read_by_page(self):\n",
    "        try:\n",
    "            page = int(input(\"page number (1..): \"))\n",
    "            page_size = int(input(\"page size: \"))\n",
    "            sort_field = input(\"sort field (default _id): \") or \"_id\"\n",
    "            sort_order = int(input(\"for asc put 1 and for desc put -1: \"))\n",
    "\n",
    "            skip = (page - 1) * page_size\n",
    "\n",
    "            cursor = (collection.find()\n",
    "                      .sort(sort_field, sort_order)\n",
    "                      .skip(skip)\n",
    "                      .limit(page_size))\n",
    "\n",
    "            for doc in cursor:\n",
    "                print(doc)\n",
    "        except Exception as e:\n",
    "            print(\"Error fetching the document:\", e)\n",
    "\n",
    "\n",
    "    def update_doc(self):\n",
    "        while True:\n",
    "            print(\"Update as\")\n",
    "            print(\"1. Update single field\")\n",
    "            print(\"2. Update Multiple Fields\")\n",
    "            print(\"3. Update by ID\")\n",
    "            print(\"4. Update by Criteria\")\n",
    "            print(\"5. Exit\")\n",
    "            ch2 = int(input(\"enter the choice: \"))\n",
    "            if ch2 == 1:\n",
    "                try:\n",
    "                    emp_id = int(input(\"enter the id to be updated: \"))\n",
    "                    update_field = input(\"enter the field name to be updated: \")\n",
    "                    to_be_updated = input(\"enter the new update: \")\n",
    "                    result = collection.update_one({\"emp_id\": emp_id}, {\"$set\": {update_field: to_be_updated, \"updated_at\": datetime.datetime.utcnow()}})\n",
    "                    print(f\"Matched: {result.matched_count}, Modified: {result.modified_count}\")\n",
    "                except Exception as e:\n",
    "                    print(\"Error updating document:\", e)\n",
    "            elif ch2 == 2:\n",
    "                try:\n",
    "                    emp_id = int(input(\"enter the id to be updated: \"))\n",
    "                    n = int(input(\"enter the number of updates to be done: \"))\n",
    "                    updates = {}\n",
    "                    for i in range(n):\n",
    "                        update_field = input(\"enter the field to be updated: \")\n",
    "                        to_be_updated = input(\"enter the value to be updated: \")\n",
    "                        updates[update_field] = to_be_updated\n",
    "                    updates[\"updated_at\"] = datetime.datetime.utcnow()\n",
    "                    result = collection.update_many({\"emp_id\": emp_id}, {\"$set\": updates})\n",
    "                    print(f\"Matched: {result.matched_count}, Modified: {result.modified_count}\")\n",
    "                except Exception as e:\n",
    "                    print(\"Error updating document:\", e)\n",
    "            elif ch2 == 3:\n",
    "                try:\n",
    "                    emp_id = int(input(\"enter the id to be updated: \"))\n",
    "                    update_field = input(\"enter the field name to be updated: \")\n",
    "                    to_be_updated = input(\"enter the new update: \")\n",
    "                    result = collection.update_one({\"emp_id\": emp_id}, {\"$set\": {update_field: to_be_updated, \"updated_at\": datetime.datetime.utcnow()}})\n",
    "                    print(f\"Matched: {result.matched_count}, Modified: {result.modified_count}\")\n",
    "                except Exception as e:\n",
    "                    print(\"Error updating document:\", e)\n",
    "            elif ch2 == 4:\n",
    "                try:\n",
    "                    field = input(\"enter the field name to be updated: \")\n",
    "                    value = input(\"enter the new value: \")\n",
    "                    criteria_field = input(\"enter the criteria field: \")\n",
    "                    criteria_value = input(\"enter the criteria value: \")\n",
    "                    result = collection.update_many({criteria_field: criteria_value}, {\"$set\": {field: value, \"updated_at\": datetime.datetime.utcnow()}})\n",
    "                    print(f\"Matched: {result.matched_count}, Modified: {result.modified_count}\")\n",
    "                except Exception as e:\n",
    "                    print(\"Error updating document:\", e)\n",
    "            elif ch2 == 5:\n",
    "                print(\"exiting\")\n",
    "                break"
   ]
  },
  {
   "cell_type": "code",
   "execution_count": 2,
   "id": "1eee9347-e664-4241-90ba-d4aa8c064396",
   "metadata": {},
   "outputs": [
    {
     "name": "stdout",
     "output_type": "stream",
     "text": [
      "\n",
      "Menu:\n",
      "1. Insert Employees\n",
      "2. List All Employees\n",
      "3. Search Employees\n",
      "4. Paginate Employees\n",
      "5. Update Employees\n",
      "6. Exit\n"
     ]
    },
    {
     "name": "stdin",
     "output_type": "stream",
     "text": [
      "Enter your choice:  1\n"
     ]
    },
    {
     "name": "stdout",
     "output_type": "stream",
     "text": [
      "\n",
      "Insert as\n",
      "1. Single Insert\n",
      "2. Bulk Insert\n",
      "3. Exit\n"
     ]
    },
    {
     "name": "stdin",
     "output_type": "stream",
     "text": [
      "enter the choice:  1\n",
      "emp_id:  1002\n",
      "name:  Gautami\n",
      "email:  gauatmi@gmail.com\n",
      "department:  IT\n",
      "salary:  50000\n",
      "join_date (YYYY-MM-DD):  2025-09-08\n"
     ]
    },
    {
     "name": "stderr",
     "output_type": "stream",
     "text": [
      "C:\\Users\\Gautami\\AppData\\Local\\Temp\\ipykernel_2052\\2518242257.py:41: DeprecationWarning: datetime.datetime.utcnow() is deprecated and scheduled for removal in a future version. Use timezone-aware objects to represent datetimes in UTC: datetime.datetime.now(datetime.UTC).\n",
      "  \"created_at\": datetime.datetime.utcnow(),\n",
      "C:\\Users\\Gautami\\AppData\\Local\\Temp\\ipykernel_2052\\2518242257.py:42: DeprecationWarning: datetime.datetime.utcnow() is deprecated and scheduled for removal in a future version. Use timezone-aware objects to represent datetimes in UTC: datetime.datetime.now(datetime.UTC).\n",
      "  \"updated_at\": datetime.datetime.utcnow()\n"
     ]
    },
    {
     "name": "stdout",
     "output_type": "stream",
     "text": [
      "Inserted\n",
      "\n",
      "Insert as\n",
      "1. Single Insert\n",
      "2. Bulk Insert\n",
      "3. Exit\n"
     ]
    },
    {
     "name": "stdin",
     "output_type": "stream",
     "text": [
      "enter the choice:  3\n"
     ]
    },
    {
     "name": "stdout",
     "output_type": "stream",
     "text": [
      "\n",
      "Menu:\n",
      "1. Insert Employees\n",
      "2. List All Employees\n",
      "3. Search Employees\n",
      "4. Paginate Employees\n",
      "5. Update Employees\n",
      "6. Exit\n"
     ]
    },
    {
     "name": "stdin",
     "output_type": "stream",
     "text": [
      "Enter your choice:  2\n"
     ]
    },
    {
     "name": "stdout",
     "output_type": "stream",
     "text": [
      "{'_id': ObjectId('68c3b62b9c2c7d6c36710d84'), 'name': 'Rahul Sharma', 'email': 'rahul.sharma@example.com', 'department': 'IT', 'salary': 55000, 'join_date': datetime.datetime(2023, 5, 10, 0, 0)}\n",
      "{'_id': ObjectId('68c3b62b9c2c7d6c36710d85'), 'name': 'Asha Patel', 'email': 'asha.patel@example.com', 'department': 'HR', 'salary': 45000, 'join_date': datetime.datetime(2022, 8, 20, 0, 0)}\n",
      "{'_id': ObjectId('68c3b62b9c2c7d6c36710d86'), 'name': 'Vikram Singh', 'email': 'vikram.singh@example.com', 'department': 'Finance', 'salary': 60000, 'join_date': datetime.datetime(2021, 11, 15, 0, 0)}\n",
      "{'_id': ObjectId('68c3b62b9c2c7d6c36710d87'), 'name': 'Priya Kapoor', 'email': 'priya.kapoor@example.com', 'department': 'Marketing', 'salary': 50000, 'join_date': datetime.datetime(2023, 1, 5, 0, 0)}\n",
      "{'_id': ObjectId('68c3b62b9c2c7d6c36710d88'), 'name': 'Amit Verma', 'email': 'amit.verma@example.com', 'department': 'Operations', 'salary': 48000, 'join_date': datetime.datetime(2022, 3, 25, 0, 0)}\n",
      "{'_id': ObjectId('68c4123f295e8affc8496a31'), 'emp_id': 1002, 'name': 'Gautami', 'email': 'gauatmi@gmail.com', 'department': 'IT', 'salary': 50000.0, 'join_date': datetime.datetime(2025, 9, 8, 0, 0), 'created_at': datetime.datetime(2025, 9, 12, 12, 29, 51, 748000), 'updated_at': datetime.datetime(2025, 9, 12, 12, 29, 51, 749000)}\n",
      "\n",
      "Menu:\n",
      "1. Insert Employees\n",
      "2. List All Employees\n",
      "3. Search Employees\n",
      "4. Paginate Employees\n",
      "5. Update Employees\n",
      "6. Exit\n"
     ]
    },
    {
     "name": "stdin",
     "output_type": "stream",
     "text": [
      "Enter your choice:  3\n"
     ]
    },
    {
     "name": "stdout",
     "output_type": "stream",
     "text": [
      "Search as\n",
      "1. Search by department\n",
      "2. Search by salary range\n",
      "3. Search by name pattern\n",
      "4. Advance search by multiple criteria\n",
      "5. Exit\n"
     ]
    },
    {
     "name": "stdin",
     "output_type": "stream",
     "text": [
      "enter the choice:  1\n",
      "enter the department:  IT\n"
     ]
    },
    {
     "name": "stdout",
     "output_type": "stream",
     "text": [
      "{'_id': ObjectId('68c3b62b9c2c7d6c36710d84'), 'name': 'Rahul Sharma', 'email': 'rahul.sharma@example.com', 'department': 'IT', 'salary': 55000, 'join_date': datetime.datetime(2023, 5, 10, 0, 0)}\n",
      "{'_id': ObjectId('68c4123f295e8affc8496a31'), 'emp_id': 1002, 'name': 'Gautami', 'email': 'gauatmi@gmail.com', 'department': 'IT', 'salary': 50000.0, 'join_date': datetime.datetime(2025, 9, 8, 0, 0), 'created_at': datetime.datetime(2025, 9, 12, 12, 29, 51, 748000), 'updated_at': datetime.datetime(2025, 9, 12, 12, 29, 51, 749000)}\n",
      "Search as\n",
      "1. Search by department\n",
      "2. Search by salary range\n",
      "3. Search by name pattern\n",
      "4. Advance search by multiple criteria\n",
      "5. Exit\n"
     ]
    },
    {
     "name": "stdin",
     "output_type": "stream",
     "text": [
      "enter the choice:  2\n",
      "enter the lower salary range:  50000\n",
      "enter the upper salary range:  60000\n"
     ]
    },
    {
     "name": "stdout",
     "output_type": "stream",
     "text": [
      "{'_id': ObjectId('68c3b62b9c2c7d6c36710d84'), 'name': 'Rahul Sharma', 'email': 'rahul.sharma@example.com', 'department': 'IT', 'salary': 55000, 'join_date': datetime.datetime(2023, 5, 10, 0, 0)}\n",
      "{'_id': ObjectId('68c3b62b9c2c7d6c36710d86'), 'name': 'Vikram Singh', 'email': 'vikram.singh@example.com', 'department': 'Finance', 'salary': 60000, 'join_date': datetime.datetime(2021, 11, 15, 0, 0)}\n",
      "{'_id': ObjectId('68c3b62b9c2c7d6c36710d87'), 'name': 'Priya Kapoor', 'email': 'priya.kapoor@example.com', 'department': 'Marketing', 'salary': 50000, 'join_date': datetime.datetime(2023, 1, 5, 0, 0)}\n",
      "{'_id': ObjectId('68c4123f295e8affc8496a31'), 'emp_id': 1002, 'name': 'Gautami', 'email': 'gauatmi@gmail.com', 'department': 'IT', 'salary': 50000.0, 'join_date': datetime.datetime(2025, 9, 8, 0, 0), 'created_at': datetime.datetime(2025, 9, 12, 12, 29, 51, 748000), 'updated_at': datetime.datetime(2025, 9, 12, 12, 29, 51, 749000)}\n",
      "Search as\n",
      "1. Search by department\n",
      "2. Search by salary range\n",
      "3. Search by name pattern\n",
      "4. Advance search by multiple criteria\n",
      "5. Exit\n"
     ]
    },
    {
     "name": "stdin",
     "output_type": "stream",
     "text": [
      "enter the choice:  5\n"
     ]
    },
    {
     "name": "stdout",
     "output_type": "stream",
     "text": [
      "\n",
      "Menu:\n",
      "1. Insert Employees\n",
      "2. List All Employees\n",
      "3. Search Employees\n",
      "4. Paginate Employees\n",
      "5. Update Employees\n",
      "6. Exit\n"
     ]
    },
    {
     "name": "stdin",
     "output_type": "stream",
     "text": [
      "Enter your choice:  4\n",
      "page number (1..):  3\n",
      "page size:  2\n",
      "sort field (default _id):  \n",
      "for asc put 1 and for desc put -1:  1\n"
     ]
    },
    {
     "name": "stdout",
     "output_type": "stream",
     "text": [
      "{'_id': ObjectId('68c3b62b9c2c7d6c36710d88'), 'name': 'Amit Verma', 'email': 'amit.verma@example.com', 'department': 'Operations', 'salary': 48000, 'join_date': datetime.datetime(2022, 3, 25, 0, 0)}\n",
      "{'_id': ObjectId('68c4123f295e8affc8496a31'), 'emp_id': 1002, 'name': 'Gautami', 'email': 'gauatmi@gmail.com', 'department': 'IT', 'salary': 50000.0, 'join_date': datetime.datetime(2025, 9, 8, 0, 0), 'created_at': datetime.datetime(2025, 9, 12, 12, 29, 51, 748000), 'updated_at': datetime.datetime(2025, 9, 12, 12, 29, 51, 749000)}\n",
      "\n",
      "Menu:\n",
      "1. Insert Employees\n",
      "2. List All Employees\n",
      "3. Search Employees\n",
      "4. Paginate Employees\n",
      "5. Update Employees\n",
      "6. Exit\n"
     ]
    },
    {
     "name": "stdin",
     "output_type": "stream",
     "text": [
      "Enter your choice:  5\n"
     ]
    },
    {
     "name": "stdout",
     "output_type": "stream",
     "text": [
      "Update as\n",
      "1. Update single field\n",
      "2. Update Multiple Fields\n",
      "3. Update by ID\n",
      "4. Update by Criteria\n",
      "5. Exit\n"
     ]
    },
    {
     "name": "stdin",
     "output_type": "stream",
     "text": [
      "enter the choice:  3\n",
      "enter the id to be updated:  1002\n",
      "enter the field name to be updated:  salary\n",
      "enter the new update:  55000\n"
     ]
    },
    {
     "name": "stderr",
     "output_type": "stream",
     "text": [
      "C:\\Users\\Gautami\\AppData\\Local\\Temp\\ipykernel_2052\\2518242257.py:197: DeprecationWarning: datetime.datetime.utcnow() is deprecated and scheduled for removal in a future version. Use timezone-aware objects to represent datetimes in UTC: datetime.datetime.now(datetime.UTC).\n",
      "  result = collection.update_one({\"emp_id\": emp_id}, {\"$set\": {update_field: to_be_updated, \"updated_at\": datetime.datetime.utcnow()}})\n"
     ]
    },
    {
     "name": "stdout",
     "output_type": "stream",
     "text": [
      "Matched: 1, Modified: 1\n",
      "Update as\n",
      "1. Update single field\n",
      "2. Update Multiple Fields\n",
      "3. Update by ID\n",
      "4. Update by Criteria\n",
      "5. Exit\n"
     ]
    },
    {
     "name": "stdin",
     "output_type": "stream",
     "text": [
      "enter the choice:  5\n"
     ]
    },
    {
     "name": "stdout",
     "output_type": "stream",
     "text": [
      "exiting\n",
      "\n",
      "Menu:\n",
      "1. Insert Employees\n",
      "2. List All Employees\n",
      "3. Search Employees\n",
      "4. Paginate Employees\n",
      "5. Update Employees\n",
      "6. Exit\n"
     ]
    },
    {
     "name": "stdin",
     "output_type": "stream",
     "text": [
      "Enter your choice:  6\n"
     ]
    },
    {
     "name": "stdout",
     "output_type": "stream",
     "text": [
      "Exiting...\n"
     ]
    }
   ],
   "source": [
    "if __name__ == \"__main__\":\n",
    "    em = Employee_Management()\n",
    "    while True:\n",
    "        print(\"\\nMenu:\")\n",
    "        print(\"1. Insert Employees\")\n",
    "        print(\"2. List All Employees\")\n",
    "        print(\"3. Search Employees\")\n",
    "        print(\"4. Paginate Employees\")\n",
    "        print(\"5. Update Employees\")\n",
    "        print(\"6. Exit\")\n",
    "        choice = int(input(\"Enter your choice: \"))\n",
    "        if choice == 1:\n",
    "            em.insert()\n",
    "        elif choice == 2:\n",
    "            em.read_doc()\n",
    "        elif choice == 3:\n",
    "            em.search()\n",
    "        elif choice == 4:\n",
    "            em.read_by_page()\n",
    "        elif choice == 5:\n",
    "            em.update_doc()\n",
    "        elif choice == 6:\n",
    "            print(\"Exiting...\")\n",
    "            break\n",
    "        else:\n",
    "            print(\"Invalid choice\")"
   ]
  },
  {
   "cell_type": "code",
   "execution_count": null,
   "id": "8502b8f5-be91-442d-8500-6c95b706b238",
   "metadata": {},
   "outputs": [],
   "source": []
  }
 ],
 "metadata": {
  "kernelspec": {
   "display_name": "Python [conda env:base] *",
   "language": "python",
   "name": "conda-base-py"
  },
  "language_info": {
   "codemirror_mode": {
    "name": "ipython",
    "version": 3
   },
   "file_extension": ".py",
   "mimetype": "text/x-python",
   "name": "python",
   "nbconvert_exporter": "python",
   "pygments_lexer": "ipython3",
   "version": "3.13.5"
  }
 },
 "nbformat": 4,
 "nbformat_minor": 5
}
